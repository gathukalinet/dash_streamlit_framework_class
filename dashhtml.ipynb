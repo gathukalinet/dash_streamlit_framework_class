{
 "cells": [
  {
   "cell_type": "code",
   "execution_count": 1,
   "metadata": {},
   "outputs": [],
   "source": [
    "import dash\n",
    "import pandas as pd\n",
    "from dash import dcc, html\n",
    "import plotly.express as px\n"
   ]
  },
  {
   "cell_type": "code",
   "execution_count": 6,
   "metadata": {},
   "outputs": [
    {
     "data": {
      "text/html": [
       "\n",
       "        <iframe\n",
       "            width=\"100%\"\n",
       "            height=\"650\"\n",
       "            src=\"http://127.0.0.1:8050/\"\n",
       "            frameborder=\"0\"\n",
       "            allowfullscreen\n",
       "            \n",
       "        ></iframe>\n",
       "        "
      ],
      "text/plain": [
       "<IPython.lib.display.IFrame at 0x107856f5580>"
      ]
     },
     "metadata": {},
     "output_type": "display_data"
    }
   ],
   "source": [
    "\n",
    "import dash\n",
    "import pandas as pd\n",
    "from dash import dcc, html\n",
    "import plotly.express as px\n",
    "\n",
    "# Create Dash app instance\n",
    "app = dash.Dash()\n",
    "\n",
    "# Sample data for the bar chart\n",
    "ecom_sales = {\n",
    "    'Country': ['United Kingdom', 'Germany', 'France', 'Australia', 'Hong Kong'],\n",
    "    'Total Sales ($)': [5000, 3000, 4000, 2000, 1000]\n",
    "}\n",
    "ecom_sales_df = pd.DataFrame(ecom_sales)\n",
    "\n",
    "# Create the bar chart\n",
    "bar_fig_country = px.bar(\n",
    "    ecom_sales_df,\n",
    "    x='Total Sales ($)',\n",
    "    y='Country',\n",
    "    color='Country',\n",
    "    color_discrete_map={\n",
    "        'United Kingdom': 'lightblue',\n",
    "        'Germany': 'orange',\n",
    "        'France': 'darkblue',\n",
    "        'Australia': 'green',\n",
    "        'Hong Kong': 'red'\n",
    "    }\n",
    ")\n",
    "\n",
    "# Define app layout\n",
    "app.layout = html.Div(\n",
    "    children=[\n",
    "        html.Div(\n",
    "            style={\n",
    "                'height': 250,\n",
    "                'width': 250,\n",
    "                'background-color': 'red'\n",
    "            }\n",
    "        ),\n",
    "        html.Div(\n",
    "            children=[\n",
    "                html.H1(\"This box\"),\n",
    "                html.H2(\"Another Title\")\n",
    "            ],\n",
    "            style={'background-color': 'lightblue'}\n",
    "        ),\n",
    "        html.H1(\"Sales Proportion by Country\"),\n",
    "        dcc.Graph(\n",
    "            id='bar_graph',\n",
    "            figure=bar_fig_country\n",
    "        ),\n",
    "        html.Div(\n",
    "            style={\n",
    "                'width': 150,\n",
    "                'height': 150,\n",
    "                'background-color': 'lightblue'\n",
    "            }\n",
    "        )\n",
    "    ]\n",
    ")\n",
    "\n",
    "# Run the app\n",
    "if __name__ == '__main__':\n",
    "    app.run_server(debug=True)"
   ]
  },
  {
   "cell_type": "code",
   "execution_count": null,
   "metadata": {},
   "outputs": [],
   "source": []
  }
 ],
 "metadata": {
  "kernelspec": {
   "display_name": "Python 3",
   "language": "python",
   "name": "python3"
  },
  "language_info": {
   "codemirror_mode": {
    "name": "ipython",
    "version": 3
   },
   "file_extension": ".py",
   "mimetype": "text/x-python",
   "name": "python",
   "nbconvert_exporter": "python",
   "pygments_lexer": "ipython3",
   "version": "3.12.4"
  }
 },
 "nbformat": 4,
 "nbformat_minor": 2
}
